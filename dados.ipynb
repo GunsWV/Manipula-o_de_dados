{
 "cells": [
  {
   "cell_type": "markdown",
   "id": "e159c54d",
   "metadata": {},
   "source": [
    "# Aula 09/08 - Introdução a Data Science"
   ]
  },
  {
   "cell_type": "code",
   "execution_count": 39,
   "id": "ad239442",
   "metadata": {},
   "outputs": [
    {
     "name": "stdout",
     "output_type": "stream",
     "text": [
      "Requirement already satisfied: pandas in c:\\users\\aluno_programador3\\documents\\dia09_agosto\\dados\\lib\\site-packages (2.3.1)\n",
      "Requirement already satisfied: numpy>=1.26.0 in c:\\users\\aluno_programador3\\documents\\dia09_agosto\\dados\\lib\\site-packages (from pandas) (2.3.2)\n",
      "Requirement already satisfied: python-dateutil>=2.8.2 in c:\\users\\aluno_programador3\\documents\\dia09_agosto\\dados\\lib\\site-packages (from pandas) (2.9.0.post0)\n",
      "Requirement already satisfied: pytz>=2020.1 in c:\\users\\aluno_programador3\\documents\\dia09_agosto\\dados\\lib\\site-packages (from pandas) (2025.2)\n",
      "Requirement already satisfied: tzdata>=2022.7 in c:\\users\\aluno_programador3\\documents\\dia09_agosto\\dados\\lib\\site-packages (from pandas) (2025.2)\n",
      "Requirement already satisfied: six>=1.5 in c:\\users\\aluno_programador3\\documents\\dia09_agosto\\dados\\lib\\site-packages (from python-dateutil>=2.8.2->pandas) (1.17.0)\n",
      "Note: you may need to restart the kernel to use updated packages.\n"
     ]
    },
    {
     "name": "stderr",
     "output_type": "stream",
     "text": [
      "\n",
      "[notice] A new release of pip is available: 24.3.1 -> 25.2\n",
      "[notice] To update, run: python.exe -m pip install --upgrade pip\n"
     ]
    }
   ],
   "source": [
    "#instalar o pandas\n",
    "\n",
    "%pip install pandas"
   ]
  },
  {
   "cell_type": "code",
   "execution_count": 53,
   "id": "4c2a8dbb",
   "metadata": {},
   "outputs": [
    {
     "name": "stdout",
     "output_type": "stream",
     "text": [
      "    dia  valor     vendedor\n",
      "0     1    500      Gustavo\n",
      "1     2    150        Paulo\n",
      "2     3    750  Maria Clara\n",
      "3     4    890      Gustavo\n",
      "4     4    956        Paulo\n",
      "5     5    997  Maria Clara\n",
      "6     6    180      Gustavo\n",
      "7     6    456        Paulo\n",
      "8     6    999  Maria Clara\n",
      "9     7    539        Pedro\n",
      "10    8    187      Gustavo\n",
      "11    9    200        Pedro\n",
      "12   10    565        Paulo\n"
     ]
    }
   ],
   "source": [
    "import pandas as pd\n",
    "\n",
    "df = pd.read_csv(\"dados.csv\")\n",
    "\n",
    "print(df)"
   ]
  },
  {
   "cell_type": "code",
   "execution_count": 41,
   "id": "53d60e53",
   "metadata": {},
   "outputs": [
    {
     "name": "stdout",
     "output_type": "stream",
     "text": [
      "   dia  valor     vendedor\n",
      "0    1    500      Gustavo\n",
      "1    2   1500        Paulo\n",
      "2    3    750  Maria Clara\n",
      "\n",
      "Index(['dia', 'valor', 'vendedor'], dtype='object')\n"
     ]
    }
   ],
   "source": [
    "# vamos testar algumas funcionalidades do pandas\n",
    "\n",
    "# imprimir somente as primeiras linhas\n",
    "print(df.head(3))\n",
    "print()\n",
    "print(df.columns) # ver as colunas do dataset"
   ]
  },
  {
   "cell_type": "code",
   "execution_count": 42,
   "id": "c91a5908",
   "metadata": {},
   "outputs": [
    {
     "name": "stdout",
     "output_type": "stream",
     "text": [
      "dia          int64\n",
      "valor        int64\n",
      "vendedor    object\n",
      "dtype: object\n"
     ]
    }
   ],
   "source": [
    "# ver o tipo de dados das colunas\n",
    "print(df.dtypes)\n"
   ]
  },
  {
   "cell_type": "code",
   "execution_count": 43,
   "id": "126df4d9",
   "metadata": {},
   "outputs": [
    {
     "name": "stdout",
     "output_type": "stream",
     "text": [
      "Faturamento de vendas: R$ 209019 reais\n",
      "Valor de vendas médio diário foi de R$  890.00 reais\n"
     ]
    }
   ],
   "source": [
    "# somar coluna de valor\n",
    "faturamento = df[\"valor\"].sum()\n",
    "\n",
    "print(f'Faturamento de vendas: R$ {faturamento} reais')\n",
    "\n",
    "mediavendas = df['valor'].median()\n",
    "print (f'Valor de vendas médio diário foi de R$ {mediavendas: .2f} reais')"
   ]
  },
  {
   "cell_type": "code",
   "execution_count": 44,
   "id": "67d0ba81",
   "metadata": {},
   "outputs": [
    {
     "name": "stdout",
     "output_type": "stream",
     "text": [
      "['Gustavo' 'Paulo' 'Maria Clara' 'Pedro']\n",
      "\n",
      "vendedor\n",
      "Gustavo        200257\n",
      "Paulo            3477\n",
      "Maria Clara      2746\n",
      "Pedro            2539\n",
      "Name: valor, dtype: int64\n"
     ]
    }
   ],
   "source": [
    "# calculos agrupados\n",
    "\n",
    "# ver lista de vendedores\n",
    "print(df[\"vendedor\"].unique())\n",
    "\n",
    "#somar as vendas por vendendor\n",
    "vendasVendedor = df.groupby(\"vendedor\")[\"valor\"].sum()\n",
    "print()\n",
    "print(vendasVendedor.sort_values(ascending=False))\n",
    "\n"
   ]
  },
  {
   "cell_type": "code",
   "execution_count": 45,
   "id": "404645a9",
   "metadata": {},
   "outputs": [
    {
     "name": "stdout",
     "output_type": "stream",
     "text": [
      "\n",
      "    dia  valor     vendedor\n",
      "6     6    180      Gustavo\n",
      "7     6    456        Paulo\n",
      "0     1    500      Gustavo\n",
      "9     7    539        Pedro\n",
      "12   10    565        Paulo\n",
      "2     3    750  Maria Clara\n",
      "3     4    890      Gustavo\n",
      "4     4    956        Paulo\n",
      "5     5    997  Maria Clara\n",
      "8     6    999  Maria Clara\n"
     ]
    }
   ],
   "source": [
    "# ver apenas as vendas menores que mil reais\n",
    "filtroVendasRuins =  df[df[\"valor\"] < 1000]\n",
    "print()\n",
    "print(filtroVendasRuins.sort_values(by=\"valor\"))"
   ]
  },
  {
   "cell_type": "code",
   "execution_count": null,
   "id": "1c82fd65",
   "metadata": {},
   "outputs": [],
   "source": [
    "# instalar o matplotlib\n",
    "\n",
    "%pip install matplotlib"
   ]
  },
  {
   "cell_type": "code",
   "execution_count": 60,
   "id": "ee3c2949",
   "metadata": {},
   "outputs": [
    {
     "data": {
      "image/png": "[encoded data removed]",
      "text/plain": [
       "<Figure size 800x600 with 1 Axes>"
      ]
     },
     "metadata": {},
     "output_type": "display_data"
    }
   ],
   "source": [
    "import matplotlib.pyplot as plt\n",
    "\n",
    "x = df[\"dia\"]\n",
    "y = df[\"valor\"]\n",
    "\n",
    "plt.figure(figsize=(8,6))\n",
    "plt.title(\"Vendas Diárias\")\n",
    "plt.bar(x,y, color='#0CF25D')\n",
    "plt.show()\n",
    "\n",
    "\n"
   ]
  },
  {
   "cell_type": "code",
   "execution_count": 64,
   "id": "ecec1ab2",
   "metadata": {},
   "outputs": [
    {
     "data": {
      "image/png": "[encoded data removed]",
      "text/plain": [
       "<Figure size 800x600 with 1 Axes>"
      ]
     },
     "metadata": {},
     "output_type": "display_data"
    }
   ],
   "source": [
    "# criar um gráfico de vendas por vendedor\n",
    "\n",
    "import matplotlib.pyplot as plt\n",
    "\n",
    "x = df[\"vendedor\"]\n",
    "y = df[\"dia\"]\n",
    "\n",
    "plt.figure(figsize=(8,6))\n",
    "plt.title(\"Vendas Diárias\")\n",
    "plt.bar(x,y, color='#FF4858')\n",
    "plt.show()"
   ]
  }
 ],
 "metadata": {
  "kernelspec": {
   "display_name": "dados",
   "language": "python",
   "name": "python3"
  },
  "language_info": {
   "codemirror_mode": {
    "name": "ipython",
    "version": 3
   },
   "file_extension": ".py",
   "mimetype": "text/x-python",
   "name": "python",
   "nbconvert_exporter": "python",
   "pygments_lexer": "ipython3",
   "version": "3.13.2"
  }
 },
 "nbformat": 4,
 "nbformat_minor": 5
}
